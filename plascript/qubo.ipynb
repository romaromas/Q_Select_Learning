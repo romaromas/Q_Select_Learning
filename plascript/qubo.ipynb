{
 "cells": [
  {
   "attachments": {},
   "cell_type": "markdown",
   "metadata": {},
   "source": [
    "$$\n",
    "d_1=\\sqrt{(p_{1s}-p_{1c_1})^2+\\dots+(p_{ns}-p_{nc_1})^2}\n",
    "$$\n",
    "$$\n",
    "\\vdots\n",
    "$$\n",
    "$$\n",
    "d_m=\\sqrt{(p_{1s}-p_{1c_m})^2+\\dots+(p_{ns}-p_{nc_m})^2}\n",
    "$$\n",
    "$$\n",
    "E(x)=d_1x_1+d_2x_2+\\dots+d_{m}x_{m}\n",
    "$$\n",
    "|変数|内容|\n",
    "|-|-|\n",
    "|$p_1$|パラメータ1 : レベル(仮)|\n",
    "|$p_2$|パラメータ2 : 必要時間(仮)|\n",
    "|$p_3$|パラメータ3 : 人気度(仮)|\n",
    "|$\\vdots$|$\\vdots$|\n",
    "|$p_n$|パラメータn|\n",
    "|$\\bm{S}$|観測点(学習者)の座標($p_{1s},p_{2s},...,p_{ns}$)|\n",
    "|$\\bm{C}_1$|教材1の座標($p_{1c_1},p_{2c_1},...,p_{nc_1}$)|\n",
    "|$\\vdots$|$\\vdots$|\n",
    "|$\\bm{C}_m$|教材$m$の座標($p_{1c_m},p_{2c_m},...,p_{nc_m}$)|\n",
    "|$k$|選択する教材の数|\n",
    "|$d_m$|観測点$\\bm{S}$から教材$m$の座標へのユークリッド距離|\n",
    "\n",
    "\n",
    "$$\n",
    "E(x)=\\sum_{i=1}^{m}d_{i}x_{i}+\\lambda  \\left(\n",
    "\\sum_{i=1}^{m}x_{i}-k\\right) ^2\n",
    "$$"
   ]
  },
  {
   "cell_type": "code",
   "execution_count": 16,
   "metadata": {},
   "outputs": [
    {
     "name": "stdout",
     "output_type": "stream",
     "text": [
      "{0: [0.871284276372944, -0.8216187020155453, -0.6245123921138398], 1: [-0.47183692150313955, 1.287229816744363, -0.32094740736111066], 2: [-0.08713409055339974, -0.10759334822807241, -0.11071428795831866], 3: [-2.3405264233480465, -0.37177770787059766, 0.28594895504566764], 4: [1.5852287141419388, 0.26475087015111315, 0.879640323587529], 5: [-1.3157939849101814, -0.14961875734721433, -0.9224209547843403], 6: [-1.3397544669513688, -1.2132638225924706, 1.5484291312651601], 7: [0.6146227394812938, 1.3605257970037303, 1.8810311974305876], 8: [-0.29908191796924793, -0.32015039221351665, 0.37761765717753615], 9: [-0.26133388773386684, 1.642541755720242, 1.2703028079561822]}\n",
      "[[ 0.87128428 -0.8216187  -0.62451239]\n",
      " [-0.47183692  1.28722982 -0.32094741]\n",
      " [-0.08713409 -0.10759335 -0.11071429]\n",
      " [-2.34052642 -0.37177771  0.28594896]\n",
      " [ 1.58522871  0.26475087  0.87964032]\n",
      " [-1.31579398 -0.14961876 -0.92242095]\n",
      " [-1.33975447 -1.21326382  1.54842913]\n",
      " [ 0.61462274  1.3605258   1.8810312 ]\n",
      " [-0.29908192 -0.32015039  0.37761766]\n",
      " [-0.26133389  1.64254176  1.27030281]]\n"
     ]
    }
   ],
   "source": [
    "import numpy as np\n",
    "import random\n",
    "\n",
    "# 観測点の座標。要素数はNparaと合わせる\n",
    "s = [0, 0, 0]   # 観測点の座標\n",
    "mu, sigma = 0, 1\n",
    "Npara = 3  # 特徴量空間のパラメータ数（特徴量の数）\n",
    "Nmater = 10  # 教材の数\n",
    "x = {}\n",
    "# for i in range(Nmater):\n",
    "#     x[i] = [random.gauss(mu, sigma) for i in range(Npara)]\n",
    "#     # print(x[i])\n",
    "\n",
    "# print(x)\n",
    "\n",
    "\n",
    "# mat = np.zeros([Nmater, Npara])\n",
    "# for i in range(Nmater):\n",
    "#     mat[i, :] = x[i]\n",
    "# print(mat)\n",
    "\n",
    "for i in range(Nmater):\n",
    "    x[i] = [random.gauss(mu, sigma) for i in range(Npara)]\n",
    "\n",
    "mat = np.array(list(x.values()))\n",
    "print(mat)"
   ]
  },
  {
   "cell_type": "code",
   "execution_count": 18,
   "metadata": {},
   "outputs": [
    {
     "data": {
      "text/plain": [
       "numpy.ndarray"
      ]
     },
     "execution_count": 18,
     "metadata": {},
     "output_type": "execute_result"
    }
   ],
   "source": [
    "type(mat)"
   ]
  },
  {
   "cell_type": "code",
   "execution_count": 9,
   "metadata": {},
   "outputs": [
    {
     "name": "stdout",
     "output_type": "stream",
     "text": [
      "2.2157310346517263\n",
      "1.7305241328540668\n",
      "3.745473693186627\n",
      "1.6616318633788987\n",
      "1.2249538976623562\n",
      "0.8272232755034503\n",
      "1.002742606058126\n",
      "0.06818095556988181\n",
      "1.5520105046268866\n",
      "0.6050472673095196\n"
     ]
    }
   ],
   "source": [
    "dist = {}\n",
    "# for i in range(Nmater):\n",
    "#     dist[i] = euclidean_distance(s, mat[i, :])\n",
    "#     print(dist[i])\n",
    "for i,li in enumerate(mat):\n",
    "    dist[i] = np.linalg.norm(li-s)\n",
    "    print(dist[i])"
   ]
  },
  {
   "cell_type": "code",
   "execution_count": 11,
   "metadata": {},
   "outputs": [
    {
     "name": "stdout",
     "output_type": "stream",
     "text": [
      "[[2.21573103 0.         0.         0.         0.         0.\n",
      "  0.         0.         0.         0.        ]\n",
      " [0.         1.73052413 0.         0.         0.         0.\n",
      "  0.         0.         0.         0.        ]\n",
      " [0.         0.         3.74547369 0.         0.         0.\n",
      "  0.         0.         0.         0.        ]\n",
      " [0.         0.         0.         1.66163186 0.         0.\n",
      "  0.         0.         0.         0.        ]\n",
      " [0.         0.         0.         0.         1.2249539  0.\n",
      "  0.         0.         0.         0.        ]\n",
      " [0.         0.         0.         0.         0.         0.82722328\n",
      "  0.         0.         0.         0.        ]\n",
      " [0.         0.         0.         0.         0.         0.\n",
      "  1.00274261 0.         0.         0.        ]\n",
      " [0.         0.         0.         0.         0.         0.\n",
      "  0.         0.06818096 0.         0.        ]\n",
      " [0.         0.         0.         0.         0.         0.\n",
      "  0.         0.         1.5520105  0.        ]\n",
      " [0.         0.         0.         0.         0.         0.\n",
      "  0.         0.         0.         0.60504727]]\n"
     ]
    }
   ],
   "source": [
    "# distを対角行列化\n",
    "\n",
    "new_dist = np.array([])  # 新しい配列を初期化\n",
    "\n",
    "for i in range(Nmater):\n",
    "    new_dist = np.append(new_dist, dist[i])\n",
    "dist = new_dist\n",
    "dist_mat = np.diag(dist)\n",
    "print(dist_mat)"
   ]
  },
  {
   "cell_type": "code",
   "execution_count": 12,
   "metadata": {},
   "outputs": [],
   "source": [
    "\n",
    "#罰則項の作成\n",
    "N=Nmater\n",
    "\n",
    "#選択する教材数\n",
    "K=3\n",
    "def create_penalty(N,K):\n",
    "    P = np.zeros([N,N])\n",
    "    for i in range(N):\n",
    "        for j in range(N):\n",
    "            P[i,j] = 1\n",
    "    for i in range(N):\n",
    "        P[i,i] = P[i,i] - 2*K\n",
    "    return P\n",
    "QUBO = create_penalty(N,K)"
   ]
  },
  {
   "cell_type": "code",
   "execution_count": 14,
   "metadata": {},
   "outputs": [
    {
     "data": {
      "text/plain": [
       "array([[-5.,  1.,  1.,  1.,  1.,  1.,  1.,  1.,  1.,  1.],\n",
       "       [ 1., -5.,  1.,  1.,  1.,  1.,  1.,  1.,  1.,  1.],\n",
       "       [ 1.,  1., -5.,  1.,  1.,  1.,  1.,  1.,  1.,  1.],\n",
       "       [ 1.,  1.,  1., -5.,  1.,  1.,  1.,  1.,  1.,  1.],\n",
       "       [ 1.,  1.,  1.,  1., -5.,  1.,  1.,  1.,  1.,  1.],\n",
       "       [ 1.,  1.,  1.,  1.,  1., -5.,  1.,  1.,  1.,  1.],\n",
       "       [ 1.,  1.,  1.,  1.,  1.,  1., -5.,  1.,  1.,  1.],\n",
       "       [ 1.,  1.,  1.,  1.,  1.,  1.,  1., -5.,  1.,  1.],\n",
       "       [ 1.,  1.,  1.,  1.,  1.,  1.,  1.,  1., -5.,  1.],\n",
       "       [ 1.,  1.,  1.,  1.,  1.,  1.,  1.,  1.,  1., -5.]])"
      ]
     },
     "execution_count": 14,
     "metadata": {},
     "output_type": "execute_result"
    }
   ],
   "source": [
    "QUBO"
   ]
  },
  {
   "cell_type": "code",
   "execution_count": null,
   "metadata": {},
   "outputs": [],
   "source": [
    "#QUBO行列を生成し、Dwaveマシーンで計算\n",
    "pip install dwave-ocean-sdk"
   ]
  },
  {
   "cell_type": "code",
   "execution_count": null,
   "metadata": {},
   "outputs": [],
   "source": [
    "token = \"XXXXXX\"\n",
    "import numpy as np\n",
    "from dwave.system import DWaveSampler, EmbeddingComposite\n",
    "\n",
    "dw_sampler = DWaveSampler(solver='Advantage_system6.1', token=token)\n",
    "sampler = EmbeddingComposite(dw_sampler)\n",
    "lamda=1\n",
    "\n",
    "QUBO = dist_mat + lamda * create_penalty(N,K)\n",
    "sampleset = sampler.sample_qubo(QUBO, num_reads=100)\n"
   ]
  }
 ],
 "metadata": {
  "kernelspec": {
   "display_name": ".venv",
   "language": "python",
   "name": "python3"
  },
  "language_info": {
   "codemirror_mode": {
    "name": "ipython",
    "version": 3
   },
   "file_extension": ".py",
   "mimetype": "text/x-python",
   "name": "python",
   "nbconvert_exporter": "python",
   "pygments_lexer": "ipython3",
   "version": "3.10.11"
  },
  "orig_nbformat": 4
 },
 "nbformat": 4,
 "nbformat_minor": 2
}
