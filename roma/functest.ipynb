{
 "cells": [
  {
   "cell_type": "code",
   "execution_count": null,
   "metadata": {},
   "outputs": [],
   "source": [
    "import os\n",
    "from os.path import join, dirname\n",
    "from dotenv import load_dotenv"
   ]
  },
  {
   "cell_type": "code",
   "execution_count": null,
   "metadata": {},
   "outputs": [],
   "source": [
    "load_dotenv(verbose=True)\n",
    "\n",
    "dotenv_path = r\"D:\\insiders\\Q_Select_Learning\\.env\"\n",
    "# dotenv_path = join(dirname(__file__), '../.env')\n",
    "load_dotenv(dotenv_path)\n",
    "\n",
    "GOOGLE_APPLICATION_CREDENTIALS = os.environ.get(\"GOOGLE_APPLICATION_CREDENTIALS\")\n",
    "SPREDSHEET_KEY = os.environ.get(\"SPREDSHEET_KEY\")"
   ]
  },
  {
   "cell_type": "code",
   "execution_count": null,
   "metadata": {},
   "outputs": [],
   "source": [
    "from google.oauth2 import service_account\n",
    "import gspread\n",
    "import google.auth\n",
    "\n",
    "scopes = [ 'https://www.googleapis.com/auth/spreadsheets','https://www.googleapis.com/auth/drive']\n",
    "\n",
    "\n",
    "# Credentials 情報を取得 デフォルトではGOOGLE_APPLICATION_CREDENTIALSに設定されてるJSONファイルを使用している\n",
    "credentials, project = google.auth.default(scopes=scopes)\n",
    "\n",
    "# クレデンシャルを使用してGoogleAPIにログイン\n",
    "gc = gspread.authorize(credentials)"
   ]
  },
  {
   "cell_type": "code",
   "execution_count": null,
   "metadata": {},
   "outputs": [],
   "source": [
    "spreadsheet = gc.open_by_key(SPREDSHEET_KEY)\n",
    "print(spreadsheet.sheet1.get_all_values())"
   ]
  },
  {
   "cell_type": "code",
   "execution_count": null,
   "metadata": {},
   "outputs": [],
   "source": [
    "import pandas as pd\n",
    "\n",
    "df = pd.DataFrame(spreadsheet.sheet1.get_all_values()[1:],columns=spreadsheet.sheet1.get_all_values()[0])"
   ]
  }
 ],
 "metadata": {
  "kernelspec": {
   "display_name": ".venv",
   "language": "python",
   "name": "python3"
  },
  "language_info": {
   "codemirror_mode": {
    "name": "ipython",
    "version": 3
   },
   "file_extension": ".py",
   "mimetype": "text/x-python",
   "name": "python",
   "nbconvert_exporter": "python",
   "pygments_lexer": "ipython3",
   "version": "3.10.7"
  },
  "orig_nbformat": 4
 },
 "nbformat": 4,
 "nbformat_minor": 2
}
